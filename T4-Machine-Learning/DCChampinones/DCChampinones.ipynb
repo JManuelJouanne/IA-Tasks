{
 "cells": [
  {
   "cell_type": "markdown",
   "metadata": {},
   "source": [
    "Pontificia Universidad Católica de Chile\\\n",
    "Facultad de Ingeniería\\\n",
    "IIC2613 - Inteligencia Artificial\\\n",
    "2024-2"
   ]
  },
  {
   "cell_type": "markdown",
   "metadata": {},
   "source": [
    "---"
   ]
  },
  {
   "cell_type": "markdown",
   "metadata": {},
   "source": [
    "<div style=\"text-align: center;\">\n",
    "  <h2>Tarea 4</h2>\n",
    "  <h1>Aprendizaje de Máquina</h1>\n",
    "  <h2>DCChampiñones</h2>\n",
    "  <p>Fecha de entrega: martes 5 de noviembre a las 23:59 hrs.\n",
    "</div>"
   ]
  },
  {
   "cell_type": "markdown",
   "metadata": {},
   "source": [
    "---"
   ]
  },
  {
   "cell_type": "markdown",
   "metadata": {},
   "source": [
    "<div style=\"text-align: center;\">\n",
    "  <h3>Nombre: </h3>\n",
    "  <h3>Número de alumno: </h3>\n",
    "</div>"
   ]
  },
  {
   "cell_type": "markdown",
   "metadata": {},
   "source": [
    "---"
   ]
  },
  {
   "cell_type": "markdown",
   "metadata": {},
   "source": [
    "### Librerías a utilizar"
   ]
  },
  {
   "cell_type": "code",
   "execution_count": null,
   "metadata": {},
   "outputs": [],
   "source": [
    "'''\n",
    "pd (pandas)\n",
    "Documentación disponible en: https://pandas.pydata.org/docs/reference/index.html#api\n",
    "'''\n",
    "import pandas as pd # Manejo del dataset\n",
    "\n",
    "# -----------------------------------------------------------------------------------------------\n",
    "\n",
    "'''\n",
    "np (numpy)\n",
    "Documentación disponible en: https://numpy.org/doc/2.1/reference/index.html#reference\n",
    "'''\n",
    "import numpy as np # Manejo del dataset\n",
    "\n",
    "# -----------------------------------------------------------------------------------------------\n",
    "\n",
    "'''\n",
    "sklearn (scikit-learn)\n",
    "Documentación disponible en: https://scikit-learn.org/dev/api/index.html\n",
    "'''\n",
    "from sklearn.model_selection import train_test_split # Separación del dataset en 'train' y 'test'\n",
    "from sklearn.preprocessing import OneHotEncoder, StandardScaler # Preprocesamiento del dataset\n",
    "from sklearn.neighbors import KNeighborsClassifier # Clasificador KNN\n",
    "from sklearn import tree # Clasificador Decision Tree\n",
    "from sklearn.ensemble import RandomForestClassifier # Clasificador Random Forest\n",
    "from sklearn.svm import SVC # Clasificador SVM\n",
    "from sklearn.metrics import classification_report, confusion_matrix # Métricas de evaluación\n",
    "\n",
    "# -----------------------------------------------------------------------------------------------\n",
    "\n",
    "'''\n",
    "plt (matplotlib)\n",
    "Documentación disponible en: https://matplotlib.org/stable/api/index.html\n",
    "'''\n",
    "from matplotlib import pyplot as plt # Gráficos\n",
    "\n",
    "# -----------------------------------------------------------------------------------------------\n",
    "\n",
    "'''\n",
    "sns (seaborn)\n",
    "Documentación disponible en: https://seaborn.pydata.org/api.html\n",
    "'''\n",
    "import seaborn as sns # Gráficos"
   ]
  },
  {
   "cell_type": "markdown",
   "metadata": {},
   "source": [
    "**IMPORTANTE**: estas son las librerías permitidas para esta parte de la Tarea 4. El uso de cualquier otra librería debe ser debidamente justificado, y *puede no ser aceptado por el cuerpo docente del curso*."
   ]
  },
  {
   "cell_type": "markdown",
   "metadata": {},
   "source": [
    "---\n",
    "---"
   ]
  },
  {
   "cell_type": "markdown",
   "metadata": {},
   "source": [
    "<div style=\"text-align: center;\">\n",
    "  <h2>Actividades a realizar</h2>\n",
    "</div>"
   ]
  },
  {
   "cell_type": "markdown",
   "metadata": {},
   "source": [
    "---\n",
    "---"
   ]
  },
  {
   "cell_type": "markdown",
   "metadata": {},
   "source": [
    "<div style=\"text-align: center;\">\n",
    "  <h3>Preprocesamiento del dataset</h3>\n",
    "</div>"
   ]
  },
  {
   "cell_type": "markdown",
   "metadata": {},
   "source": [
    "---"
   ]
  },
  {
   "cell_type": "markdown",
   "metadata": {},
   "source": [
    "Lee la información contenida en el archivo **mushroom.csv**. Una vez que la información esté cargada, comenta sobre los elementos que contiene y su naturaleza. Para esto, responde al menos a estas preguntas: ¿Cuántos datos hay? ¿Cuántos atrbiutos hay y cuáles son? ¿A qué tipo de dato corresponde cada atributo? ¿Cuál es la columna que queremos predecir? ¿Cómo se ve la distribución de las clases a predecir? Para entenderlos de mejor manera, es muy útil visualizar los datos con gráficos. Para esto te pediremos que hagas al menos un gráfico para la distribución de las clases."
   ]
  },
  {
   "cell_type": "code",
   "execution_count": null,
   "metadata": {},
   "outputs": [],
   "source": [
    "# Tu código aquí..."
   ]
  },
  {
   "cell_type": "markdown",
   "metadata": {},
   "source": [
    "**RESPUESTA**: *COMPLETAR*"
   ]
  },
  {
   "cell_type": "markdown",
   "metadata": {},
   "source": [
    "---"
   ]
  },
  {
   "cell_type": "markdown",
   "metadata": {},
   "source": [
    "A continuación debes dividir el dataset en conjuntos de entrenamiento y prueba. Justifica tu elección de las proporciones."
   ]
  },
  {
   "cell_type": "markdown",
   "metadata": {},
   "source": [
    "**RESPUESTA**: *COMPLETAR*"
   ]
  },
  {
   "cell_type": "code",
   "execution_count": null,
   "metadata": {},
   "outputs": [],
   "source": [
    "# Tu código aquí..."
   ]
  },
  {
   "cell_type": "markdown",
   "metadata": {},
   "source": [
    "---"
   ]
  },
  {
   "cell_type": "markdown",
   "metadata": {},
   "source": [
    "Luego debes identificar datos faltantes o anómalos y decidir que hacer con ellos. Asimismo, responde a la pregunta: ¿Son todos los atributos útiles para esta tarea? Justifica, y decide que hacer con ellos. Recuerda que puedes normalizar o estandarizar las características según sea necesario."
   ]
  },
  {
   "cell_type": "markdown",
   "metadata": {},
   "source": [
    "**RESPUESTA**: *COMPLETAR*"
   ]
  },
  {
   "cell_type": "code",
   "execution_count": null,
   "metadata": {},
   "outputs": [],
   "source": [
    "# Tu código aquí..."
   ]
  },
  {
   "cell_type": "markdown",
   "metadata": {},
   "source": [
    "---"
   ]
  },
  {
   "cell_type": "markdown",
   "metadata": {},
   "source": [
    "Para terminar el preprocesamiento, debes convertir variables categóricas a numéricas. Primero responde a la siguiente pregunta: ¿Por qué queremos hacer esta conversión? ¿Cuáles son las columnas que debemos convertir? Luego, decide que método utilizaras para cada una y justifica."
   ]
  },
  {
   "cell_type": "markdown",
   "metadata": {},
   "source": [
    "**RESPUESTA**: *COMPLETAR*"
   ]
  },
  {
   "cell_type": "code",
   "execution_count": null,
   "metadata": {},
   "outputs": [],
   "source": [
    "# Tu código aquí..."
   ]
  },
  {
   "cell_type": "markdown",
   "metadata": {},
   "source": [
    "---"
   ]
  },
  {
   "cell_type": "markdown",
   "metadata": {},
   "source": [
    "<div style=\"text-align: center;\">\n",
    "  <h3>Implementación de algoritmos de machine learning</h3>\n",
    "</div>"
   ]
  },
  {
   "cell_type": "markdown",
   "metadata": {},
   "source": [
    "---"
   ]
  },
  {
   "cell_type": "markdown",
   "metadata": {},
   "source": [
    "A continuación debes elegir al menos tres algoritmos de aprendizaje de máquinas vistos en clases y entrenar dichos modelos para resolver esta tarea. Recuerda que cada uno de estos algoritmos tiene sus respectivos\n",
    "hiperparámetros, por lo que debes seleccionar un conjunto de ellos para cada uno y justificar debidamente la elección"
   ]
  },
  {
   "cell_type": "markdown",
   "metadata": {},
   "source": [
    "**Primer modelo escogido**: *COMPLETAR*"
   ]
  },
  {
   "cell_type": "code",
   "execution_count": null,
   "metadata": {},
   "outputs": [],
   "source": [
    "# Tu código aquí... (recuerda justificar la elección de hiperparámetros)"
   ]
  },
  {
   "cell_type": "markdown",
   "metadata": {},
   "source": [
    "**Segundo modelo escogido**: *COMPLETAR*"
   ]
  },
  {
   "cell_type": "code",
   "execution_count": null,
   "metadata": {},
   "outputs": [],
   "source": [
    "# Tu código aquí... (recuerda justificar la elección de hiperparámetros)"
   ]
  },
  {
   "cell_type": "markdown",
   "metadata": {},
   "source": [
    "**Tercer modelo escogido**: *COMPLETAR*"
   ]
  },
  {
   "cell_type": "code",
   "execution_count": null,
   "metadata": {},
   "outputs": [],
   "source": [
    "# Tu código aquí... (recuerda justificar la elección de hiperparámetros)"
   ]
  },
  {
   "cell_type": "markdown",
   "metadata": {},
   "source": [
    "---\n",
    "---"
   ]
  },
  {
   "cell_type": "markdown",
   "metadata": {},
   "source": [
    "<div style=\"text-align: center;\">\n",
    "  <h3>Evaluación de Modelos</h3>\n",
    "</div>"
   ]
  },
  {
   "cell_type": "markdown",
   "metadata": {},
   "source": [
    "---"
   ]
  },
  {
   "cell_type": "markdown",
   "metadata": {},
   "source": [
    "A continuación debes evaluar los modelos entrenados en la sección anterior. Para esto debes utilizar las\n",
    "siguientes métricas (se recomienda utilizar las métricas ya implementadas en las librerías):\n",
    "- *Accuracy*\n",
    "- *Precision*\n",
    "- *Recall*\n",
    "- *F1-score*\n"
   ]
  },
  {
   "cell_type": "markdown",
   "metadata": {},
   "source": [
    "Explica brevemente que indica cada una de estas métricas en general. Luego, calcula estas métricas y muestra la matriz de confusión para cada modelo."
   ]
  },
  {
   "cell_type": "markdown",
   "metadata": {},
   "source": [
    "**RESPUESTA**: *COMPLETAR*"
   ]
  },
  {
   "cell_type": "markdown",
   "metadata": {},
   "source": [
    "**Evaluación primer modelo escogido**: *COMPLETAR*"
   ]
  },
  {
   "cell_type": "code",
   "execution_count": null,
   "metadata": {},
   "outputs": [],
   "source": [
    "# Tu código aquí..."
   ]
  },
  {
   "cell_type": "markdown",
   "metadata": {},
   "source": [
    "**Evaluación segundo modelo escogido**: *COMPLETAR*"
   ]
  },
  {
   "cell_type": "code",
   "execution_count": null,
   "metadata": {},
   "outputs": [],
   "source": [
    "# Tu código aquí..."
   ]
  },
  {
   "cell_type": "markdown",
   "metadata": {},
   "source": [
    "**Evaluación tercer modelo escogido**: *COMPLETAR*"
   ]
  },
  {
   "cell_type": "code",
   "execution_count": null,
   "metadata": {},
   "outputs": [],
   "source": [
    "# Tu código aquí..."
   ]
  },
  {
   "cell_type": "markdown",
   "metadata": {},
   "source": [
    "---"
   ]
  },
  {
   "cell_type": "markdown",
   "metadata": {},
   "source": [
    "\n",
    "Responde a la siguiente pregunta: ¿Si queremos evitar clasificar mal los hongos venenosos en qué debemos fijarnos? Discute sobre las implicaciones de los errores de tipo 1 y tipo 2 en el contexto de este problema (considera el contexto inicial)."
   ]
  },
  {
   "cell_type": "markdown",
   "metadata": {},
   "source": [
    "**RESPUESTA**: *COMPLETAR*"
   ]
  },
  {
   "cell_type": "markdown",
   "metadata": {},
   "source": [
    "---"
   ]
  },
  {
   "cell_type": "markdown",
   "metadata": {},
   "source": [
    "Por último, basado en lo anterior decide cual de los tres modelos es el que obtiene los mejores resultados para este problema en particular y explica porque este puede haber funcionado mejor en este caso. Para esto habla sobre los aspectos puntuales del algoritmo que pueden haber ayudado."
   ]
  },
  {
   "cell_type": "markdown",
   "metadata": {},
   "source": [
    "**RESPUESTA**: *COMPLETAR*"
   ]
  }
 ],
 "metadata": {
  "language_info": {
   "name": "python"
  }
 },
 "nbformat": 4,
 "nbformat_minor": 2
}
