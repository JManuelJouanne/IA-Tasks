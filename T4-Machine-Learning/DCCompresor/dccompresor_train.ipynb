{
 "cells": [
  {
   "cell_type": "markdown",
   "metadata": {},
   "source": [
    "Pontificia Universidad Católica de Chile\\\n",
    "Facultad de Ingeniería\\\n",
    "IIC2613 - Inteligencia Artificial\\\n",
    "2024-2"
   ]
  },
  {
   "cell_type": "markdown",
   "metadata": {},
   "source": [
    "---"
   ]
  },
  {
   "cell_type": "markdown",
   "metadata": {},
   "source": [
    "<div style=\"text-align: center;\">\n",
    "  <h2>Tarea 4</h2>\n",
    "  <h1>Aprendizaje de Máquina</h1>\n",
    "  <h2>DCCompresor</h2>\n",
    "  <p>Fecha de entrega: martes 5 de noviembre a las 23:59 hrs.\n",
    "</div>"
   ]
  },
  {
   "cell_type": "markdown",
   "metadata": {},
   "source": [
    "---"
   ]
  },
  {
   "cell_type": "markdown",
   "metadata": {},
   "source": [
    "<div style=\"text-align: center;\">\n",
    "  <h3>Nombre: </h3>\n",
    "  <h3>Número de alumno: </h3>\n",
    "</div>"
   ]
  },
  {
   "cell_type": "markdown",
   "metadata": {},
   "source": [
    "---"
   ]
  },
  {
   "cell_type": "markdown",
   "metadata": {},
   "source": [
    "En este jupyter debes implementar y describer el proceso de entrenamiento y construcción del compresor/descompresor. Recuerda que se pueden guardar los pesos finales de un modelo entrenado en un archivo aparte."
   ]
  },
  {
   "cell_type": "markdown",
   "metadata": {},
   "source": [
    "Asimismo, debes responder a la pregunta teoríca seleccionada."
   ]
  },
  {
   "cell_type": "markdown",
   "metadata": {},
   "source": [
    "Mucho éxito!"
   ]
  }
 ],
 "metadata": {
  "language_info": {
   "name": "python"
  }
 },
 "nbformat": 4,
 "nbformat_minor": 2
}
